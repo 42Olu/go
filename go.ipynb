{
 "cells": [
  {
   "cell_type": "markdown",
   "metadata": {},
   "source": [
    "# Inports\n",
    "\n",
    "Usual imports.\n"
   ]
  },
  {
   "cell_type": "code",
   "execution_count": 1,
   "metadata": {},
   "outputs": [],
   "source": [
    "import numpy as np\n",
    "import math\n",
    "import pygame\n",
    "import os"
   ]
  },
  {
   "cell_type": "markdown",
   "metadata": {},
   "source": [
    "# Constants\n",
    "\n",
    "Important constants for the game GO to improve code readability later on."
   ]
  },
  {
   "cell_type": "code",
   "execution_count": 2,
   "metadata": {},
   "outputs": [],
   "source": [
    "black = -1\n",
    "white = 1\n",
    "empty = 0\n",
    "\n",
    "display_w = 900\n",
    "display_h = 900\n",
    "\n",
    "WHITE = (255,255,255)\n",
    "BLACK = (0,0,0)\n",
    "RED = (210, 83, 83)\n",
    "GREY = (200, 200, 200)\n",
    "DARK_GREY = (75, 75, 75)\n",
    "BROWN = (102, 51, 0)\n",
    "\n",
    "line_width = 3\n",
    "hoshi_r = 7\n",
    "\n",
    "komi = 5.5"
   ]
  },
  {
   "cell_type": "markdown",
   "metadata": {},
   "source": [
    "# Inits\n"
   ]
  },
  {
   "cell_type": "code",
   "execution_count": 3,
   "metadata": {},
   "outputs": [],
   "source": [
    "pygame.init()\n",
    "screen = pygame.display.set_mode((display_w, display_h))\n",
    "pygame.display.set_caption('GO')\n",
    "clock = pygame.time.Clock()"
   ]
  },
  {
   "cell_type": "code",
   "execution_count": 4,
   "metadata": {},
   "outputs": [],
   "source": [
    "text = pygame.font.SysFont('monospace', 44)\n",
    "background = pygame.image.load(os.path.join(\"textures\",\"wood.jpg\")).convert_alpha()\n",
    "\n",
    "bs9 = pygame.image.load(os.path.join(\"textures\",\"black9.png\")).convert_alpha()\n",
    "bs13 = pygame.image.load(os.path.join(\"textures\",\"black13.png\")).convert_alpha()\n",
    "bs19 = pygame.image.load(os.path.join(\"textures\",\"black19.png\")).convert_alpha()\n",
    "\n",
    "ws9 = pygame.image.load(os.path.join(\"textures\",\"white9.png\")).convert_alpha()\n",
    "ws13 = pygame.image.load(os.path.join(\"textures\",\"white13.png\")).convert_alpha()\n",
    "ws19 = pygame.image.load(os.path.join(\"textures\",\"white19.png\")).convert_alpha()"
   ]
  },
  {
   "cell_type": "markdown",
   "metadata": {},
   "source": [
    "# Classes\n",
    "\n",
    "Definitions of useful classes"
   ]
  },
  {
   "cell_type": "code",
   "execution_count": 5,
   "metadata": {},
   "outputs": [],
   "source": [
    "class Board:\n",
    "    game_board = None\n",
    "    turn = 0\n",
    "    passed = False\n",
    "    finished = False\n",
    "    size = None\n",
    "    last_move = None\n",
    "    \n",
    "    def __init__(self, size):\n",
    "        self.game_board = np.zeros((size,size), dtype=np.int8)\n",
    "        self.size = size\n",
    "        \n",
    "    def get_situation(self):\n",
    "        return self.game_board\n",
    "    \n",
    "    def get_board_size(self):\n",
    "        return self.size\n",
    "    \n",
    "    def get_turn(self):\n",
    "        return self.turn\n",
    "    \n",
    "    def get_player(self):\n",
    "        if self.turn % 2 == 0:\n",
    "            return black\n",
    "        else:\n",
    "            return white\n",
    "        \n",
    "    def make_move(self, row=None, col=None, _pass=False):\n",
    "        if self.finished:\n",
    "            return\n",
    "        elif _pass:\n",
    "            self.turn += 1\n",
    "            \n",
    "            if self.passed:\n",
    "                self.finished = True\n",
    "            \n",
    "            self.passed = True\n",
    "            return\n",
    "        elif self.game_board[row,col] != empty:\n",
    "            return \"Invalid move!\"\n",
    "        else:\n",
    "            self.passed = False\n",
    "            \n",
    "            self.game_board[row,col] = self.get_player()\n",
    "            self.turn += 1\n",
    "            self.last_move = (row,col)\n",
    "            return"
   ]
  },
  {
   "cell_type": "markdown",
   "metadata": {},
   "source": [
    "# Game Functions\n",
    "\n",
    "Functions to draw and play the game"
   ]
  },
  {
   "cell_type": "markdown",
   "metadata": {},
   "source": [
    "### 1. Functions to convert pixel coordinates to array indices and the other way around."
   ]
  },
  {
   "cell_type": "code",
   "execution_count": 6,
   "metadata": {},
   "outputs": [],
   "source": [
    "def intersection_to_pixel(size, i, j):\n",
    "    if(size == 9):\n",
    "        void = 88\n",
    "    elif(size == 13):\n",
    "        void = 61\n",
    "    elif(size == 19):\n",
    "        void = 42\n",
    "        \n",
    "    x = 50 + int(void/2) + j*void\n",
    "    y = 50 + int(void/2) + i*void\n",
    "    \n",
    "    return (x,y)"
   ]
  },
  {
   "cell_type": "code",
   "execution_count": 7,
   "metadata": {},
   "outputs": [],
   "source": [
    "def pixel_to_intersection(size, x, y):\n",
    "    if(size == 9):\n",
    "        void = 88\n",
    "    elif(size == 13):\n",
    "        void = 61\n",
    "    elif(size == 19):\n",
    "        void = 42\n",
    "    \n",
    "    i = None\n",
    "    j = None\n",
    "    \n",
    "    for k in range(size):\n",
    "        if(x <= 50 + void + k*void and j is None):\n",
    "            j = k\n",
    "        if(y <= 50 + void + k*void and i is None):\n",
    "            i = k\n",
    "            \n",
    "    return i, j    "
   ]
  },
  {
   "cell_type": "markdown",
   "metadata": {},
   "source": [
    "### 2. Functions to draw stuff on the screen."
   ]
  },
  {
   "cell_type": "code",
   "execution_count": 8,
   "metadata": {},
   "outputs": [],
   "source": [
    "def draw_hoshis(size, screen):\n",
    "    if(size == 9):\n",
    "        pygame.draw.circle(screen, GREY, intersection_to_pixel(size, 2, 2), hoshi_r, 0)\n",
    "        pygame.draw.circle(screen, GREY, intersection_to_pixel(size, 6, 6), hoshi_r, 0)\n",
    "        pygame.draw.circle(screen, GREY, intersection_to_pixel(size, 2, 6), hoshi_r, 0)\n",
    "        pygame.draw.circle(screen, GREY, intersection_to_pixel(size, 6, 2), hoshi_r, 0)\n",
    "        pygame.draw.circle(screen, GREY, intersection_to_pixel(size, 4, 4), hoshi_r, 0)\n",
    "    elif(size == 13):\n",
    "        pygame.draw.circle(screen, GREY, intersection_to_pixel(size, 3, 3), hoshi_r, 0)\n",
    "        pygame.draw.circle(screen, GREY, intersection_to_pixel(size, 9, 9), hoshi_r, 0)\n",
    "        pygame.draw.circle(screen, GREY, intersection_to_pixel(size, 3, 9), hoshi_r, 0)\n",
    "        pygame.draw.circle(screen, GREY, intersection_to_pixel(size, 9, 3), hoshi_r, 0)\n",
    "        pygame.draw.circle(screen, GREY, intersection_to_pixel(size, 6, 6), hoshi_r, 0)\n",
    "    elif(size == 19):\n",
    "        pygame.draw.circle(screen, GREY, intersection_to_pixel(size, 3, 3), hoshi_r, 0)\n",
    "        pygame.draw.circle(screen, GREY, intersection_to_pixel(size, 15, 15), hoshi_r, 0)\n",
    "        pygame.draw.circle(screen, GREY, intersection_to_pixel(size, 3, 15), hoshi_r, 0)\n",
    "        pygame.draw.circle(screen, GREY, intersection_to_pixel(size, 15, 3), hoshi_r, 0)\n",
    "        pygame.draw.circle(screen, GREY, intersection_to_pixel(size, 9, 9), hoshi_r, 0)\n",
    "        pygame.draw.circle(screen, GREY, intersection_to_pixel(size, 9, 15), hoshi_r, 0)\n",
    "        pygame.draw.circle(screen, GREY, intersection_to_pixel(size, 15, 9), hoshi_r, 0)\n",
    "        pygame.draw.circle(screen, GREY, intersection_to_pixel(size, 9, 3), hoshi_r, 0)\n",
    "        pygame.draw.circle(screen, GREY, intersection_to_pixel(size, 3, 9), hoshi_r, 0)"
   ]
  },
  {
   "cell_type": "code",
   "execution_count": 9,
   "metadata": {},
   "outputs": [],
   "source": [
    "def print_(screen, txt):\n",
    "    txt_img = text.render(str(txt), 1, WHITE)\n",
    "    pygame.draw.rect(screen, DARK_GREY, (0,850,900,50), 0)\n",
    "    screen.blit(txt_img, (display_w/2- int(txt_img.get_rect().width/2), 850))"
   ]
  },
  {
   "cell_type": "code",
   "execution_count": 10,
   "metadata": {},
   "outputs": [],
   "source": [
    "def draw_turn(board, screen):\n",
    "    turn = text.render(str(board.turn), 1, WHITE)\n",
    "    pygame.draw.rect(screen, DARK_GREY, (0,0,900,50), 0)\n",
    "    screen.blit(turn, (display_w/2- int(turn.get_rect().width/2), 0))"
   ]
  },
  {
   "cell_type": "code",
   "execution_count": 11,
   "metadata": {},
   "outputs": [],
   "source": [
    "def draw_board(board, screen):\n",
    "    pygame.draw.rect(screen, DARK_GREY, (0,0,900,900), 0)\n",
    "    screen.blit(background, (50,50))\n",
    "    \n",
    "    for i in range(board.size):\n",
    "        pygame.draw.line(screen, GREY, intersection_to_pixel(board.size, i, 0), intersection_to_pixel(board.size, i, board.size-1), line_width)\n",
    "        pygame.draw.line(screen, GREY, intersection_to_pixel(board.size, 0, i), intersection_to_pixel(board.size, board.size-1, i), line_width)\n",
    "    \n",
    "    draw_hoshis(board.size, screen)\n",
    "    \n",
    "    if(board.size==9):\n",
    "        bs = bs9\n",
    "        ws = ws9\n",
    "    elif(board.size==13):\n",
    "        bs = bs13\n",
    "        ws = ws13\n",
    "    elif(board.size==19):\n",
    "        bs = bs19\n",
    "        ws = ws19\n",
    "    \n",
    "    stone_rad = int(bs.get_rect().width/2)\n",
    "    sit = board.get_situation()\n",
    "    \n",
    "    for i in range(board.size):\n",
    "        for j in range(board.size):\n",
    "            if(sit[i,j] == black):\n",
    "                screen.blit(bs, np.subtract(intersection_to_pixel(board.size, i,j), (stone_rad, stone_rad)))\n",
    "            elif(sit[i,j] == white):\n",
    "                screen.blit(ws, np.subtract(intersection_to_pixel(board.size, i,j), (stone_rad, stone_rad)))\n",
    "                \n",
    "    last_move = board.last_move\n",
    "    \n",
    "    if(not (last_move is None or board.passed)):\n",
    "        xy = intersection_to_pixel(board.size, last_move[0], last_move[1])\n",
    "\n",
    "        if(board.get_player() == black):\n",
    "            pygame.draw.circle(screen, white, (xy[0], xy[1]), 9, 1)\n",
    "        elif(board.get_player() == white):\n",
    "            pygame.draw.circle(screen, black, (xy[0], xy[1]), 9, 1)        "
   ]
  },
  {
   "cell_type": "markdown",
   "metadata": {},
   "source": [
    "## Gameloop\n",
    "The following function is the main game loop.\n",
    "This is where the magic happens.\n",
    "\n",
    "* the game situation is drawn\n",
    "* inputs of the players are recorded\n"
   ]
  },
  {
   "cell_type": "code",
   "execution_count": 12,
   "metadata": {},
   "outputs": [],
   "source": [
    "def gameloop(board):   \n",
    "    beendet = False\n",
    "    draw_board(board, screen)\n",
    "    err = None\n",
    "    \n",
    "    while not board.finished and not beendet:\n",
    "        \n",
    "        for event in pygame.event.get():\n",
    "            if event.type == pygame.QUIT:\n",
    "                beendet = True\n",
    "                \n",
    "            if event.type == pygame.KEYDOWN:\n",
    "                if event.key == pygame.K_ESCAPE:\n",
    "                    beendet = True    \n",
    "                if event.key == pygame.K_SPACE:\n",
    "                    board.make_move(_pass=True)\n",
    "                    \n",
    "            if event.type == pygame.MOUSEBUTTONDOWN:\n",
    "                mouse_buttons = pygame.mouse.get_pressed()\n",
    "                if mouse_buttons[0]:\n",
    "                    pos = pygame.mouse.get_pos()\n",
    "                    if(pos[0] >= 50 and pos[1] >= 50 and pos[0] <= display_w-50 and pos[1] <= display_h-50):\n",
    "                        i, j = pixel_to_intersection(board.size, pos[0], pos[1])\n",
    "                        err = board.make_move(row=i, col=j)\n",
    "    \n",
    "                        \n",
    "        \n",
    "        draw_board(board, screen)\n",
    "        draw_turn(board, screen)\n",
    "        \n",
    "        if(type(err) is str):\n",
    "            print_(screen, err)\n",
    "        \n",
    "        err is None\n",
    "        pygame.display.update()\n",
    "        clock.tick(60)\n",
    "        \n",
    "    \n",
    "    \n",
    "    \n",
    "    \n",
    "    \n",
    "    ###\n",
    "    # Block to handle quitting and finishing a game\n",
    "    ###\n",
    "    \n",
    "    if beendet:   \n",
    "        pygame.quit()\n",
    "    elif board.finished:\n",
    "        while not beendet:\n",
    "            for event in pygame.event.get():\n",
    "                if event.type == pygame.QUIT:\n",
    "                    beendet = True\n",
    "                if event.type == pygame.KEYDOWN:\n",
    "                    if event.key == pygame.K_ESCAPE:\n",
    "                        beendet = True\n",
    "        pygame.quit()"
   ]
  },
  {
   "cell_type": "markdown",
   "metadata": {},
   "source": [
    "#  Main\n",
    "\n",
    "In here the size of the board will be determined and the main game loop will be started accordingly."
   ]
  },
  {
   "cell_type": "code",
   "execution_count": 13,
   "metadata": {},
   "outputs": [],
   "source": [
    "def main():\n",
    "    board = Board(19)\n",
    "    \n",
    "    gameloop(board)\n",
    "\n",
    "if __name__ == \"__main__\":\n",
    "    main()"
   ]
  }
 ],
 "metadata": {
  "kernelspec": {
   "display_name": "Python 3",
   "language": "python",
   "name": "python3"
  },
  "language_info": {
   "codemirror_mode": {
    "name": "ipython",
    "version": 3
   },
   "file_extension": ".py",
   "mimetype": "text/x-python",
   "name": "python",
   "nbconvert_exporter": "python",
   "pygments_lexer": "ipython3",
   "version": "3.6.3"
  }
 },
 "nbformat": 4,
 "nbformat_minor": 2
}
