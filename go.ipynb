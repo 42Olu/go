{
 "cells": [
  {
   "cell_type": "markdown",
   "metadata": {},
   "source": [
    "# Inports\n",
    "\n",
    "Usual imports.\n"
   ]
  },
  {
   "cell_type": "code",
   "execution_count": 1,
   "metadata": {},
   "outputs": [],
   "source": [
    "import numpy as np\n",
    "import math\n",
    "import pygame"
   ]
  },
  {
   "cell_type": "markdown",
   "metadata": {},
   "source": [
    "# Constants\n",
    "\n",
    "Important constants for the game GO to improve code readability later on."
   ]
  },
  {
   "cell_type": "code",
   "execution_count": 2,
   "metadata": {},
   "outputs": [],
   "source": [
    "black = -1\n",
    "white = 1\n",
    "empty = 0\n",
    "\n",
    "display_w = 800\n",
    "display_h = 800\n",
    "\n",
    "WHITE = (255,255,255)\n",
    "BLACK = (0,0,0)\n",
    "RED = (210, 83, 83)\n",
    "GREY = (200, 200, 200)\n",
    "BROWN = (102, 51, 0)\n",
    "\n",
    "line_width = 3\n",
    "hoshi_r = 7"
   ]
  },
  {
   "cell_type": "markdown",
   "metadata": {},
   "source": [
    "# Inits\n"
   ]
  },
  {
   "cell_type": "code",
   "execution_count": 3,
   "metadata": {},
   "outputs": [],
   "source": [
    "pygame.init()\n",
    "screen = pygame.display.set_mode((display_w, display_h))\n",
    "pygame.display.set_caption('GO')\n",
    "clock = pygame.time.Clock()"
   ]
  },
  {
   "cell_type": "code",
   "execution_count": 4,
   "metadata": {},
   "outputs": [],
   "source": [
    "text = pygame.font.SysFont('monospace', 14)\n",
    "background = pygame.image.load('holz.jpg').convert_alpha()"
   ]
  },
  {
   "cell_type": "markdown",
   "metadata": {},
   "source": [
    "# Classes\n",
    "\n",
    "Definitions of useful classes"
   ]
  },
  {
   "cell_type": "code",
   "execution_count": 5,
   "metadata": {},
   "outputs": [],
   "source": [
    "class Board:\n",
    "    game_board = None\n",
    "    turn = 0\n",
    "    passed = False\n",
    "    finished = False\n",
    "    size = None\n",
    "    \n",
    "    def __init__(self, size):\n",
    "        self.game_board = np.zeros((size,size), dtype=np.int8)\n",
    "        self.size = size\n",
    "        \n",
    "    def get_situation(self):\n",
    "        return self.game_board\n",
    "    \n",
    "    def get_board_size(self):\n",
    "        return self.size\n",
    "    \n",
    "    def get_turn(self):\n",
    "        return self.turn\n",
    "    \n",
    "    def get_player(self):\n",
    "        if self.turn % 2 == 0:\n",
    "            return black\n",
    "        else:\n",
    "            return white\n",
    "        \n",
    "    def make_move(self, row=None, col=None, _pass=False):\n",
    "        if self.finished:\n",
    "            return\n",
    "        if False: #self.check_move()\n",
    "            \n",
    "            return\n",
    "        elif _pass:\n",
    "            self.turn += 1\n",
    "            \n",
    "            if self.passed:\n",
    "                self.finished = True\n",
    "            \n",
    "            self.passed = True\n",
    "            return\n",
    "        else:\n",
    "            self.passed = False\n",
    "            \n",
    "            self.game_board[row,col] = self.get_player()\n",
    "            self.turn += 1\n",
    "            return"
   ]
  },
  {
   "cell_type": "markdown",
   "metadata": {},
   "source": [
    "# Game Functions"
   ]
  },
  {
   "cell_type": "code",
   "execution_count": 6,
   "metadata": {},
   "outputs": [],
   "source": [
    "def intersection_to_pixel(size, i, j):\n",
    "    if(size == 9):\n",
    "        void = 88\n",
    "    elif(size == 13):\n",
    "        void = 61\n",
    "    elif(size == 19):\n",
    "        void = 42\n",
    "        \n",
    "    x = int(void/2) + i*void\n",
    "    y = int(void/2) + j*void\n",
    "    \n",
    "    return (x,y)"
   ]
  },
  {
   "cell_type": "code",
   "execution_count": 7,
   "metadata": {},
   "outputs": [],
   "source": [
    "def draw_hoshis(size, screen):\n",
    "    if(size == 9):\n",
    "        pygame.draw.circle(screen, GREY, intersection_to_pixel(size, 2, 2), hoshi_r, 0)\n",
    "        pygame.draw.circle(screen, GREY, intersection_to_pixel(size, 6, 6), hoshi_r, 0)\n",
    "        pygame.draw.circle(screen, GREY, intersection_to_pixel(size, 2, 6), hoshi_r, 0)\n",
    "        pygame.draw.circle(screen, GREY, intersection_to_pixel(size, 6, 2), hoshi_r, 0)\n",
    "        pygame.draw.circle(screen, GREY, intersection_to_pixel(size, 4, 4), hoshi_r, 0)\n",
    "    elif(size == 13):\n",
    "        pygame.draw.circle(screen, GREY, intersection_to_pixel(size, 3, 3), hoshi_r, 0)\n",
    "        pygame.draw.circle(screen, GREY, intersection_to_pixel(size, 9, 9), hoshi_r, 0)\n",
    "        pygame.draw.circle(screen, GREY, intersection_to_pixel(size, 3, 9), hoshi_r, 0)\n",
    "        pygame.draw.circle(screen, GREY, intersection_to_pixel(size, 9, 3), hoshi_r, 0)\n",
    "        pygame.draw.circle(screen, GREY, intersection_to_pixel(size, 6, 6), hoshi_r, 0)\n",
    "    elif(size == 19):\n",
    "        pygame.draw.circle(screen, GREY, intersection_to_pixel(size, 3, 3), hoshi_r, 0)\n",
    "        pygame.draw.circle(screen, GREY, intersection_to_pixel(size, 15, 15), hoshi_r, 0)\n",
    "        pygame.draw.circle(screen, GREY, intersection_to_pixel(size, 3, 15), hoshi_r, 0)\n",
    "        pygame.draw.circle(screen, GREY, intersection_to_pixel(size, 15, 3), hoshi_r, 0)\n",
    "        pygame.draw.circle(screen, GREY, intersection_to_pixel(size, 9, 9), hoshi_r, 0)\n",
    "        pygame.draw.circle(screen, GREY, intersection_to_pixel(size, 9, 15), hoshi_r, 0)\n",
    "        pygame.draw.circle(screen, GREY, intersection_to_pixel(size, 15, 9), hoshi_r, 0)\n",
    "        pygame.draw.circle(screen, GREY, intersection_to_pixel(size, 9, 3), hoshi_r, 0)\n",
    "        pygame.draw.circle(screen, GREY, intersection_to_pixel(size, 3, 9), hoshi_r, 0)"
   ]
  },
  {
   "cell_type": "code",
   "execution_count": 8,
   "metadata": {},
   "outputs": [],
   "source": [
    "def draw_board(board, screen):\n",
    "    screen.blit(background, (0,0))\n",
    "    \n",
    "    for i in range(board.size):\n",
    "        pygame.draw.line(screen, GREY, intersection_to_pixel(board.size, i, 0), intersection_to_pixel(board.size, i, board.size-1), line_width)\n",
    "        pygame.draw.line(screen, GREY, intersection_to_pixel(board.size, 0, i), intersection_to_pixel(board.size, board.size-1, i), line_width)\n",
    "    \n",
    "    draw_hoshis(board.size, screen)"
   ]
  },
  {
   "cell_type": "markdown",
   "metadata": {},
   "source": [
    "## Gameloop\n",
    "The following function is the main game loop.\n",
    "This is where the magic happens.\n",
    "\n",
    "* the game situation is drawn\n",
    "* inputs of the players are recorded\n"
   ]
  },
  {
   "cell_type": "code",
   "execution_count": 9,
   "metadata": {},
   "outputs": [],
   "source": [
    "def gameloop(board):   \n",
    "    beendet = False\n",
    "    draw_board(board, screen)\n",
    "    \n",
    "    while not board.finished and not beendet:\n",
    "        for event in pygame.event.get():\n",
    "\n",
    "            if event.type == pygame.QUIT:\n",
    "                beendet = True\n",
    "            if event.type == pygame.KEYDOWN:\n",
    "                if event.key == pygame.K_ESCAPE:\n",
    "                    beendet = True\n",
    "    \n",
    "\n",
    "        pygame.display.update()\n",
    "        clock.tick(60)\n",
    "        \n",
    "        \n",
    "        \n",
    "    pygame.quit()"
   ]
  },
  {
   "cell_type": "markdown",
   "metadata": {},
   "source": [
    "#  Main\n",
    "\n",
    "In here the boardsize will be determined and the main game loop will be started accordingly."
   ]
  },
  {
   "cell_type": "code",
   "execution_count": null,
   "metadata": {},
   "outputs": [],
   "source": [
    "def main():\n",
    "    board = Board(19)\n",
    "    \n",
    "    gameloop(board)\n",
    "\n",
    "if __name__ == \"__main__\":\n",
    "    main()"
   ]
  },
  {
   "cell_type": "code",
   "execution_count": null,
   "metadata": {},
   "outputs": [],
   "source": []
  }
 ],
 "metadata": {
  "kernelspec": {
   "display_name": "Python 3",
   "language": "python",
   "name": "python3"
  },
  "language_info": {
   "codemirror_mode": {
    "name": "ipython",
    "version": 3
   },
   "file_extension": ".py",
   "mimetype": "text/x-python",
   "name": "python",
   "nbconvert_exporter": "python",
   "pygments_lexer": "ipython3",
   "version": "3.6.3"
  }
 },
 "nbformat": 4,
 "nbformat_minor": 2
}
