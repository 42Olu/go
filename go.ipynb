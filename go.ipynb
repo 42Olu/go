{
 "cells": [
  {
   "cell_type": "markdown",
   "metadata": {},
   "source": [
    "# Inports\n",
    "\n",
    "Usual imports.\n"
   ]
  },
  {
   "cell_type": "code",
   "execution_count": 1,
   "metadata": {},
   "outputs": [],
   "source": [
    "import numpy as np\n",
    "import math\n",
    "import pygame"
   ]
  },
  {
   "cell_type": "markdown",
   "metadata": {},
   "source": [
    "# Constants\n",
    "\n",
    "Important constants for the game GO to improve code readability later on."
   ]
  },
  {
   "cell_type": "code",
   "execution_count": 15,
   "metadata": {},
   "outputs": [],
   "source": [
    "black = -1\n",
    "white = 1\n",
    "empty = 0"
   ]
  },
  {
   "cell_type": "markdown",
   "metadata": {},
   "source": [
    "# Classes\n",
    "\n",
    "Definitions of useful classes"
   ]
  },
  {
   "cell_type": "code",
   "execution_count": 19,
   "metadata": {},
   "outputs": [],
   "source": [
    "class Board:\n",
    "    game_board = None\n",
    "    turn = 0\n",
    "    passed = False\n",
    "    finished = False\n",
    "    size = None\n",
    "    \n",
    "    def __init__(self, size):\n",
    "        self.game_board = np.zeros((size,size), dtype=np.int8)\n",
    "        self.size = size\n",
    "        \n",
    "    def get_situation(self):\n",
    "        return self.game_board\n",
    "    \n",
    "    def get_board_size(self):\n",
    "        return self.size\n",
    "    \n",
    "    def get_turn(self):\n",
    "        return self.turn\n",
    "    \n",
    "    def get_player(self):\n",
    "        if self.turn % 2 == 0:\n",
    "            return black\n",
    "        else:\n",
    "            return white\n",
    "        \n",
    "    def make_move(self, row=None, col=None, _pass=False):\n",
    "        if self.finished:\n",
    "            return\n",
    "        if False: #self.check_move()\n",
    "            \n",
    "            return\n",
    "        elif _pass:\n",
    "            self.turn += 1\n",
    "            \n",
    "            if self.passed:\n",
    "                self.finished = True\n",
    "            \n",
    "            self.passed = True\n",
    "            return\n",
    "        else:\n",
    "            self.passed = False\n",
    "            \n",
    "            self.game_board[row,col] = self.get_player()\n",
    "            self.turn += 1\n",
    "            return"
   ]
  },
  {
   "cell_type": "markdown",
   "metadata": {},
   "source": [
    "# Game Functions"
   ]
  },
  {
   "cell_type": "code",
   "execution_count": null,
   "metadata": {},
   "outputs": [],
   "source": []
  },
  {
   "cell_type": "markdown",
   "metadata": {},
   "source": [
    "#  Main"
   ]
  },
  {
   "cell_type": "code",
   "execution_count": 21,
   "metadata": {},
   "outputs": [],
   "source": [
    "def main():\n",
    "    board = Board(9)\n",
    "    \n",
    "\n",
    "if __name__ == \"__main__\":\n",
    "    main()"
   ]
  },
  {
   "cell_type": "code",
   "execution_count": null,
   "metadata": {},
   "outputs": [],
   "source": []
  }
 ],
 "metadata": {
  "kernelspec": {
   "display_name": "Python 3",
   "language": "python",
   "name": "python3"
  },
  "language_info": {
   "codemirror_mode": {
    "name": "ipython",
    "version": 3
   },
   "file_extension": ".py",
   "mimetype": "text/x-python",
   "name": "python",
   "nbconvert_exporter": "python",
   "pygments_lexer": "ipython3",
   "version": "3.6.3"
  }
 },
 "nbformat": 4,
 "nbformat_minor": 2
}
